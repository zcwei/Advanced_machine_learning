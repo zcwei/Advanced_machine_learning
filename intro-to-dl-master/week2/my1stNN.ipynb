{
 "cells": [
  {
   "cell_type": "code",
   "execution_count": 1,
   "metadata": {
    "scrolled": false
   },
   "outputs": [
    {
     "name": "stderr",
     "output_type": "stream",
     "text": [
      "/anaconda3/lib/python3.6/site-packages/h5py/__init__.py:36: FutureWarning: Conversion of the second argument of issubdtype from `float` to `np.floating` is deprecated. In future, it will be treated as `np.float64 == np.dtype(float).type`.\n",
      "  from ._conv import register_converters as _register_converters\n",
      "Using TensorFlow backend.\n"
     ]
    },
    {
     "name": "stdout",
     "output_type": "stream",
     "text": [
      "(50000, 28, 28) (50000,)\n"
     ]
    },
    {
     "data": {
      "image/png": "[encoded data removed]",
      "text/plain": [
       "<matplotlib.figure.Figure at 0x10516ee10>"
      ]
     },
     "metadata": {},
     "output_type": "display_data"
    }
   ],
   "source": [
    "from preprocessed_mnist import load_dataset\n",
    "X_train, y_train, X_val, y_val, X_test, y_test = load_dataset()\n",
    "print(X_train.shape, y_train.shape)\n",
    "import matplotlib.pyplot as plt\n",
    "%matplotlib inline\n",
    "plt.imshow(X_train[0], cmap=\"Greys\");"
   ]
  },
  {
   "cell_type": "code",
   "execution_count": 2,
   "metadata": {},
   "outputs": [],
   "source": [
    "import tensorflow as tf\n",
    "import numpy as np\n",
    "import math"
   ]
  },
  {
   "cell_type": "code",
   "execution_count": 3,
   "metadata": {},
   "outputs": [],
   "source": [
    "## reshape X \n",
    "image_size = X_train.shape[1]\n",
    "IMAGE_PIXELS = image_size * image_size\n",
    "\n",
    "X_train = X_train.reshape((-1, IMAGE_PIXELS)).astype(np.float32)\n",
    "X_val = X_val.reshape((-1, IMAGE_PIXELS)).astype(np.float32)\n",
    "X_test = X_test.reshape((-1, IMAGE_PIXELS)).astype(np.float32)"
   ]
  },
  {
   "cell_type": "code",
   "execution_count": 4,
   "metadata": {},
   "outputs": [],
   "source": [
    "from sklearn.preprocessing import OneHotEncoder\n",
    "num_labels = 10\n",
    "\n",
    "enc = OneHotEncoder(n_values = num_labels, sparse=False)\n",
    "y_train = y_train.reshape((-1,1))\n",
    "y_val = y_val.reshape((-1,1))\n",
    "y_test = y_test.reshape((-1,1))\n",
    "enc.fit(y_train) \n",
    "\n",
    "## transfor y to one hot encoding\n",
    "y_train_labels = enc.transform(y_train)\n",
    "y_val_labels = enc.transform(y_val)\n",
    "y_test_labels = enc.transform(y_test)"
   ]
  },
  {
   "cell_type": "code",
   "execution_count": 5,
   "metadata": {},
   "outputs": [],
   "source": [
    "batch_size = 128 \n",
    "graph = tf.Graph()\n",
    "hidden_units = 1024\n",
    "learning_rate = 0.001\n",
    "\n",
    "\n",
    "with graph.as_default():   \n",
    "    tf_train_dataset = tf.placeholder(tf.float32, shape = (batch_size,IMAGE_PIXELS ))\n",
    "    tf_train_labels = tf.placeholder(tf.float32, shape = (batch_size, num_labels ))\n",
    "    tf_valid_dataset = tf.constant(X_val)\n",
    "    tf_test_dataset = tf.constant(X_test)\n",
    "    \n",
    "    with tf.name_scope('hidden'):\n",
    "        weights = tf.Variable(tf.truncated_normal([IMAGE_PIXELS, hidden_units],stddev=1.0 / math.sqrt(float(hidden_units))), name='weights')\n",
    "        biases = tf.Variable(tf.zeros([hidden_units]), name='biases')\n",
    "        hidden = tf.nn.relu(tf.matmul(tf_train_dataset, weights) + biases)\n",
    "    # Linear\n",
    "    with tf.name_scope('softmax_linear'):\n",
    "        linear_weights = tf.Variable(tf.truncated_normal([hidden_units, num_labels]))\n",
    "        linear_biases = tf.Variable(tf.zeros([num_labels]),name='biases')\n",
    "        linear_logits = tf.matmul(hidden, linear_weights) + linear_biases\n",
    "    \n",
    "    loss = tf.reduce_mean(tf.nn.softmax_cross_entropy_with_logits_v2(logits = linear_logits, labels = tf_train_labels))\n",
    "    optimizer = tf.train.AdamOptimizer(learning_rate).minimize(loss)\n",
    "    \n",
    "    train_prediction = tf.nn.softmax(linear_logits)\n",
    "    valid_prediction = tf.nn.softmax(tf.matmul(tf.nn.relu(tf.matmul(tf_valid_dataset, weights) + biases), linear_weights) + linear_biases)\n",
    "    test_prediction =  tf.nn.softmax(tf.matmul(tf.nn.relu(tf.matmul(tf_test_dataset, weights) + biases), linear_weights) + linear_biases)"
   ]
  },
  {
   "cell_type": "code",
   "execution_count": 7,
   "metadata": {},
   "outputs": [
    {
     "name": "stdout",
     "output_type": "stream",
     "text": [
      "Initialized\n",
      "Minibatch loss at step 0: 5.653521\n",
      "Minibatch accuracy: 10.2%\n",
      "Validation accuracy: 38.5%\n",
      "Minibatch loss at step 500: 0.047718\n",
      "Minibatch accuracy: 97.7%\n",
      "Validation accuracy: 94.0%\n",
      "Minibatch loss at step 1000: 0.086079\n",
      "Minibatch accuracy: 96.9%\n",
      "Validation accuracy: 96.2%\n",
      "Minibatch loss at step 1500: 0.057838\n",
      "Minibatch accuracy: 96.9%\n",
      "Validation accuracy: 97.2%\n",
      "Minibatch loss at step 2000: 0.006843\n",
      "Minibatch accuracy: 100.0%\n",
      "Validation accuracy: 97.4%\n",
      "Minibatch loss at step 2500: 0.020040\n",
      "Minibatch accuracy: 99.2%\n",
      "Validation accuracy: 97.8%\n",
      "Minibatch loss at step 3000: 0.009042\n",
      "Minibatch accuracy: 100.0%\n",
      "Validation accuracy: 97.2%\n",
      "Minibatch loss at step 3500: 0.001961\n",
      "Minibatch accuracy: 100.0%\n",
      "Validation accuracy: 97.6%\n",
      "Test accuracy: 97.3%\n"
     ]
    }
   ],
   "source": [
    "num_steps = 4000\n",
    "\n",
    "def accuracy(predictions, labels):\n",
    "  return (100.0 * np.sum(np.argmax(predictions, 1) == np.argmax(labels, 1))\n",
    "          / predictions.shape[0])\n",
    "loss_list = []\n",
    "with tf.Session(graph=graph) as session:\n",
    "  session.run(tf.global_variables_initializer())\n",
    "  print(\"Initialized\")\n",
    "  for step in range(num_steps):\n",
    "    # Pick an offset within the training data, which has been randomized.\n",
    "    # Note: we could use better randomization across epochs.\n",
    "    offset = (step * batch_size) % (y_train_labels.shape[0] - batch_size)\n",
    "    # Generate a minibatch.\n",
    "    batch_data = X_train[offset:(offset + batch_size), :]\n",
    "    batch_labels = y_train_labels[offset:(offset + batch_size), :]\n",
    "    # Prepare a dictionary telling the session where to feed the minibatch.\n",
    "    # The key of the dictionary is the placeholder node of the graph to be fed,\n",
    "    # and the value is the numpy array to feed to it.\n",
    "    feed_dict = {tf_train_dataset : batch_data, tf_train_labels : batch_labels}\n",
    "    _, l, predictions = session.run([optimizer, loss, train_prediction], feed_dict=feed_dict)\n",
    "    if (step % 500 == 0):\n",
    "      print(\"Minibatch loss at step %d: %f\" % (step, l))\n",
    "      print(\"Minibatch accuracy: %.1f%%\" % accuracy(predictions, batch_labels))\n",
    "      print(\"Validation accuracy: %.1f%%\" % accuracy(valid_prediction.eval(), y_val_labels))\n",
    "      loss_list.append(l)\n",
    "  print(\"Test accuracy: %.1f%%\" % accuracy(test_prediction.eval(), y_test_labels))"
   ]
  },
  {
   "cell_type": "code",
   "execution_count": 14,
   "metadata": {},
   "outputs": [
    {
     "data": {
      "text/plain": [
       "[<matplotlib.lines.Line2D at 0x11f366d30>]"
      ]
     },
     "execution_count": 14,
     "metadata": {},
     "output_type": "execute_result"
    },
    {
     "data": {
      "image/png": "[encoded data removed]",
      "text/plain": [
       "<matplotlib.figure.Figure at 0x11f28e518>"
      ]
     },
     "metadata": {},
     "output_type": "display_data"
    }
   ],
   "source": [
    "plt.plot(np.arange(0, 4000, 500), loss_list)"
   ]
  }
 ],
 "metadata": {
  "kernelspec": {
   "display_name": "Python 3",
   "language": "python",
   "name": "python3"
  },
  "language_info": {
   "codemirror_mode": {
    "name": "ipython",
    "version": 3
   },
   "file_extension": ".py",
   "mimetype": "text/x-python",
   "name": "python",
   "nbconvert_exporter": "python",
   "pygments_lexer": "ipython3",
   "version": "3.6.4"
  }
 },
 "nbformat": 4,
 "nbformat_minor": 2
}
